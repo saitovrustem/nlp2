{
 "metadata": {
  "name": "",
  "signature": "sha256:a48e1657626fa10b624f201eb2a315d9469c12422de121d48365ae60d875f826"
 },
 "nbformat": 3,
 "nbformat_minor": 0,
 "worksheets": [
  {
   "cells": [
    {
     "cell_type": "code",
     "collapsed": false,
     "input": [
      "import numpy as np\n",
      "class Decoder(object):\n",
      "    def __init__(self, initialProb, transProb, obsProb):\n",
      "        self.N = initialProb.shape[0]\n",
      "        self.initialProb = initialProb\n",
      "        self.transProb = transProb\n",
      "        self.obsProb = obsProb\n",
      "        assert self.initialProb.shape == (self.N, 1)\n",
      "        assert self.transProb.shape == (self.N, self.N)\n",
      "        assert self.obsProb.shape[0] == self.N\n",
      "        \n",
      "    def Obs(self, obs):\n",
      "        return self.obsProb[:, obs, None]\n",
      "\n",
      "    def Decode(self, obs):\n",
      "        trellis = np.zeros((self.N, len(obs)))\n",
      "        backpt = np.ones((self.N, len(obs)), 'int32') * -1\n",
      "                \n",
      "        # initialization\n",
      "        trellis[:, 0] = np.squeeze(self.initialProb * self.Obs(obs[0]))\n",
      "                \n",
      "        for t in xrange(1, len(obs)):\n",
      "            trellis[:, t] = (trellis[:, t-1, None].dot(self.Obs(obs[t]).T) * self.transProb).max(0)\n",
      "            backpt[:, t] = (np.tile(trellis[:, t-1, None], [1, self.N]) * self.transProb).argmax(0)\n",
      "        # termination\n",
      "        tokens = [trellis[:, -1].argmax()]\n",
      "        for i in xrange(len(obs)-1, 0, -1):\n",
      "            tokens.append(backpt[tokens[-1], i])\n",
      "        return tokens[::-1]"
     ],
     "language": "python",
     "metadata": {},
     "outputs": [],
     "prompt_number": 3
    },
    {
     "cell_type": "code",
     "collapsed": false,
     "input": [
      "pi = np.array([[0.04, 0.02, 0.06, 0.04, 0.11, 0.11, 0.01, 0.09, 0.03, 0.05, 0.06, 0.11, 0.05, 0.11, 0.03, 0.08]]).T\n",
      "trans = np.array([ \\\n",
      "    [0.08, 0.02, 0.10, 0.05, 0.07, 0.08, 0.07, 0.04, 0.08, 0.10, 0.07, 0.02, 0.01, 0.10, 0.09, 0.01], \\\n",
      "    [0.06, 0.10, 0.11, 0.01, 0.04, 0.11, 0.04, 0.07, 0.08, 0.10, 0.08, 0.02, 0.09, 0.05, 0.02, 0.02], \\\n",
      "    [0.08, 0.07, 0.08, 0.07, 0.01, 0.03, 0.10, 0.02, 0.07, 0.03, 0.06, 0.08, 0.03, 0.10, 0.10, 0.08], \\\n",
      "    [0.08, 0.04, 0.04, 0.05, 0.07, 0.08, 0.01, 0.08, 0.10, 0.07, 0.11, 0.01, 0.05, 0.04, 0.11, 0.06], \\\n",
      "    [0.03, 0.03, 0.08, 0.10, 0.11, 0.04, 0.06, 0.03, 0.03, 0.08, 0.03, 0.07, 0.10, 0.11, 0.07, 0.03], \\\n",
      "    [0.02, 0.05, 0.01, 0.09, 0.05, 0.09, 0.05, 0.12, 0.09, 0.07, 0.01, 0.07, 0.05, 0.05, 0.11, 0.06], \\\n",
      "    [0.11, 0.05, 0.10, 0.07, 0.01, 0.08, 0.05, 0.03, 0.03, 0.10, 0.01, 0.10, 0.08, 0.09, 0.07, 0.02], \\\n",
      "    [0.03, 0.02, 0.16, 0.01, 0.05, 0.01, 0.14, 0.14, 0.02, 0.05, 0.01, 0.09, 0.07, 0.14, 0.03, 0.01], \\\n",
      "    [0.01, 0.09, 0.13, 0.01, 0.02, 0.04, 0.05, 0.03, 0.10, 0.05, 0.06, 0.06, 0.11, 0.06, 0.03, 0.14], \\\n",
      "    [0.09, 0.03, 0.04, 0.05, 0.04, 0.03, 0.12, 0.04, 0.07, 0.02, 0.07, 0.10, 0.11, 0.03, 0.06, 0.09], \\\n",
      "    [0.09, 0.04, 0.06, 0.06, 0.05, 0.07, 0.05, 0.01, 0.05, 0.10, 0.04, 0.08, 0.05, 0.08, 0.08, 0.10], \\\n",
      "    [0.07, 0.06, 0.01, 0.07, 0.06, 0.09, 0.01, 0.06, 0.07, 0.07, 0.08, 0.06, 0.01, 0.11, 0.09, 0.05], \\\n",
      "    [0.03, 0.04, 0.06, 0.06, 0.06, 0.05, 0.02, 0.10, 0.11, 0.07, 0.09, 0.05, 0.05, 0.05, 0.11, 0.08], \\\n",
      "    [0.04, 0.03, 0.04, 0.09, 0.10, 0.09, 0.08, 0.06, 0.04, 0.07, 0.09, 0.02, 0.05, 0.08, 0.04, 0.09], \\\n",
      "    [0.05, 0.07, 0.02, 0.08, 0.06, 0.08, 0.05, 0.05, 0.07, 0.06, 0.10, 0.07, 0.03, 0.05, 0.06, 0.10], \\\n",
      "    [0.11, 0.03, 0.02, 0.11, 0.11, 0.01, 0.02, 0.08, 0.05, 0.08, 0.11, 0.03, 0.02, 0.10, 0.01, 0.11]])\n",
      "obs = np.array([[0.01,0.99], \\\n",
      "                [0.58,0.42], \\\n",
      "                [0.48,0.52], \\\n",
      "                [0.58,0.42], \\\n",
      "                [0.37,0.63], \\\n",
      "                [0.33,0.67], \\\n",
      "                [0.51,0.49], \\\n",
      "                [0.28,0.72], \\\n",
      "                [0.35,0.65], \\\n",
      "                [0.61,0.39], \\\n",
      "                [0.97,0.03], \\\n",
      "                [0.87,0.13], \\\n",
      "                [0.46,0.54], \\\n",
      "                [0.55,0.45], \\\n",
      "                [0.23,0.77], \\\n",
      "                [0.76,0.24]])\n",
      "data = [[0, 0, 0, 0, 0, 0, 1, 0, 1, 1], [1, 1, 0, 0, 1, 1, 1, 0, 0, 0]]\n",
      "d = Decoder(pi, trans, obs)\n",
      "print d.Decode(data[0]) \n",
      "print d.Decode(data[1]) \n"
     ],
     "language": "python",
     "metadata": {},
     "outputs": [
      {
       "output_type": "stream",
       "stream": "stdout",
       "text": [
        "[11, 10, 15, 10, 15, 10, 0, 10, 0, 0]\n",
        "[5, 14, 10, 15, 0, 0, 14, 10, 15, 10]\n"
       ]
      }
     ],
     "prompt_number": 6
    },
    {
     "cell_type": "code",
     "collapsed": false,
     "input": [],
     "language": "python",
     "metadata": {},
     "outputs": []
    }
   ],
   "metadata": {}
  }
 ]
}
